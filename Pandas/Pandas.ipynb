{
 "cells": [
  {
   "cell_type": "code",
   "execution_count": 21,
   "id": "c6b6033b-f317-409f-b2d9-899f25d499ee",
   "metadata": {},
   "outputs": [],
   "source": [
    "import pandas as pd"
   ]
  },
  {
   "cell_type": "code",
   "execution_count": 22,
   "id": "d736dde6-7415-471f-9246-b1925ccd19c7",
   "metadata": {},
   "outputs": [
    {
     "name": "stdout",
     "output_type": "stream",
     "text": [
      "A    1\n",
      "B    2\n",
      "C    3\n",
      "D    4\n",
      "E    5\n",
      "dtype: int64\n"
     ]
    }
   ],
   "source": [
    "# creating series in pandas\n",
    "data = [1,2,3,4,5]\n",
    "series = pd.Series(data, index = [\"A\", \"B\", \"C\", \"D\", \"E\"])\n",
    "print(series)"
   ]
  },
  {
   "cell_type": "code",
   "execution_count": 23,
   "id": "dcfc975c-1f83-4395-ad29-ecfe360db89c",
   "metadata": {},
   "outputs": [
    {
     "name": "stdout",
     "output_type": "stream",
     "text": [
      "      Name  Age Fav_color\n",
      "0   Kushal   20      Blue\n",
      "1     Elon   58      Pink\n",
      "2     Jeff   62     Green\n",
      "3  Richard   74     White\n",
      "4     Lary   57    Yellow\n"
     ]
    }
   ],
   "source": [
    "# Creating dataframe in pandas\n",
    "data = {\"Name\":[\"Kushal\", \"Elon\", \"Jeff\", \"Richard\", \"Lary\"],\n",
    "       \"Age\":[20, 58, 62, 74, 57],\n",
    "       \"Fav_color\":[\"Blue\", \"Pink\", \"Green\", \"White\", \"Yellow\" ]}\n",
    "df = pd.DataFrame(data)\n",
    "print(df)"
   ]
  },
  {
   "cell_type": "markdown",
   "id": "0ee094ee-09e1-49c2-8641-a90ebd694b87",
   "metadata": {},
   "source": [
    "## Data Tranformation: Grouping, Merging Concatenating"
   ]
  },
  {
   "cell_type": "code",
   "execution_count": 24,
   "id": "13b00a18-3032-40db-bea3-59a823ecba87",
   "metadata": {},
   "outputs": [
    {
     "name": "stdout",
     "output_type": "stream",
     "text": [
      "Country\n",
      "Australia    62.0\n",
      "India        47.0\n",
      "Japan        57.0\n",
      "USA          58.0\n",
      "Name: Age, dtype: float64\n"
     ]
    }
   ],
   "source": [
    "# Group by\n",
    "data = {\"Name\":[\"Kushal\", \"Elon\", \"Jeff\", \"Richard\", \"Lary\"],\n",
    "       \"Age\":[20, 58, 62, 74, 57],\n",
    "       \"Country\":[\"India\", \"USA\", \"Australia\", \"India\", \"Japan\" ]}\n",
    "df = pd.DataFrame(data)\n",
    "grouped_data = df.groupby(['Country'])\n",
    "print(grouped_data['Age'].mean())"
   ]
  },
  {
   "cell_type": "code",
   "execution_count": 25,
   "id": "b1477335-c0bb-4705-a11d-9ab7e3267414",
   "metadata": {},
   "outputs": [
    {
     "name": "stdout",
     "output_type": "stream",
     "text": [
      "      Name  Age Fav_color\n",
      "0   Kushal   20      Blue\n",
      "1     Elon   58      Pink\n",
      "2     Jeff   62     Green\n",
      "3  Richard   74     White\n",
      "4     Lary   57    Yellow\n"
     ]
    }
   ],
   "source": [
    "# Merging\n",
    "data1 = {\"Name\":[\"Kushal\", \"Elon\", \"Jeff\", \"Richard\", \"Lary\"],\n",
    "       \"Age\":[20, 58, 62, 74, 57]}\n",
    "data2= {\"Name\":[\"Kushal\", \"Elon\", \"Jeff\", \"Richard\", \"Lary\"],\n",
    "       \"Fav_color\":[\"Blue\", \"Pink\", \"Green\", \"White\", \"Yellow\" ]}\n",
    "df1 = pd.DataFrame(data1)\n",
    "df2 = pd.DataFrame(data2)\n",
    "merged_data = pd.merge(df1, df2, on='Name')\n",
    "print(merged_data)"
   ]
  },
  {
   "cell_type": "code",
   "execution_count": 26,
   "id": "8f5b9386-c6ab-4fc0-b95e-09456cc78fc0",
   "metadata": {},
   "outputs": [
    {
     "name": "stdout",
     "output_type": "stream",
     "text": [
      "      Name  Age\n",
      "0   Kushal   20\n",
      "1     Elon   58\n",
      "2     Jeff   62\n",
      "0  Richard   74\n",
      "1     Lary   57\n"
     ]
    }
   ],
   "source": [
    "# Concatenate\n",
    "data1 = {\"Name\":[\"Kushal\", \"Elon\", \"Jeff\"],\n",
    "       \"Age\":[20, 58, 62]}\n",
    "data2= {\"Name\":[\"Richard\", \"Lary\"],\n",
    "       \"Age\":[74, 57]}\n",
    "\n",
    "df1 = pd.DataFrame(data1)\n",
    "df2 = pd.DataFrame(data2)\n",
    "concatenatedData = pd.concat([df1,df2], axis=0)\n",
    "print(concatenatedData)"
   ]
  },
  {
   "cell_type": "markdown",
   "id": "2adc3b9d-fbeb-4147-93d9-a43f63673227",
   "metadata": {},
   "source": [
    "### Sorting, Filtering & Mapping the data"
   ]
  },
  {
   "cell_type": "code",
   "execution_count": 27,
   "id": "685ed500-52f9-4df7-89f1-085a67158604",
   "metadata": {},
   "outputs": [
    {
     "data": {
      "text/html": [
       "<div>\n",
       "<style scoped>\n",
       "    .dataframe tbody tr th:only-of-type {\n",
       "        vertical-align: middle;\n",
       "    }\n",
       "\n",
       "    .dataframe tbody tr th {\n",
       "        vertical-align: top;\n",
       "    }\n",
       "\n",
       "    .dataframe thead th {\n",
       "        text-align: right;\n",
       "    }\n",
       "</style>\n",
       "<table border=\"1\" class=\"dataframe\">\n",
       "  <thead>\n",
       "    <tr style=\"text-align: right;\">\n",
       "      <th></th>\n",
       "      <th>Name</th>\n",
       "      <th>Math</th>\n",
       "      <th>English</th>\n",
       "      <th>DSA</th>\n",
       "    </tr>\n",
       "  </thead>\n",
       "  <tbody>\n",
       "    <tr>\n",
       "      <th>1</th>\n",
       "      <td>Kushal</td>\n",
       "      <td>98</td>\n",
       "      <td>87</td>\n",
       "      <td>89</td>\n",
       "    </tr>\n",
       "    <tr>\n",
       "      <th>2</th>\n",
       "      <td>Elon</td>\n",
       "      <td>58</td>\n",
       "      <td>89</td>\n",
       "      <td>79</td>\n",
       "    </tr>\n",
       "    <tr>\n",
       "      <th>3</th>\n",
       "      <td>Jeff</td>\n",
       "      <td>62</td>\n",
       "      <td>70</td>\n",
       "      <td>80</td>\n",
       "    </tr>\n",
       "    <tr>\n",
       "      <th>4</th>\n",
       "      <td>Richard</td>\n",
       "      <td>74</td>\n",
       "      <td>93</td>\n",
       "      <td>100</td>\n",
       "    </tr>\n",
       "    <tr>\n",
       "      <th>5</th>\n",
       "      <td>Lary</td>\n",
       "      <td>57</td>\n",
       "      <td>45</td>\n",
       "      <td>91</td>\n",
       "    </tr>\n",
       "  </tbody>\n",
       "</table>\n",
       "</div>"
      ],
      "text/plain": [
       "      Name  Math  English  DSA\n",
       "1   Kushal    98       87   89\n",
       "2     Elon    58       89   79\n",
       "3     Jeff    62       70   80\n",
       "4  Richard    74       93  100\n",
       "5     Lary    57       45   91"
      ]
     },
     "execution_count": 27,
     "metadata": {},
     "output_type": "execute_result"
    }
   ],
   "source": [
    "# Creating dataframe in pandas\n",
    "data = {\"Name\":[\"Kushal\", \"Elon\", \"Jeff\", \"Richard\", \"Lary\"],\n",
    "       \"Math\":[98, 58, 62, 74, 57],\n",
    "       \"English\":[87, 89, 70, 93, 45 ],\n",
    "       \"DSA\":[89, 79, 80, 100, 91 ]}\n",
    "df = pd.DataFrame(data, index=[1,2,3,4,5])\n",
    "df"
   ]
  },
  {
   "cell_type": "code",
   "execution_count": 28,
   "id": "a0258bc4-f2b5-478e-a8d8-ff19d6d55f0c",
   "metadata": {},
   "outputs": [
    {
     "name": "stdout",
     "output_type": "stream",
     "text": [
      "      Name  Math  English  DSA\n",
      "4  Richard    74       93  100\n",
      "2     Elon    58       89   79\n",
      "1   Kushal    98       87   89\n",
      "3     Jeff    62       70   80\n",
      "5     Lary    57       45   91\n",
      "\n",
      "\n",
      "      Name  Math  English  DSA\n",
      "5     Lary    57       45   91\n",
      "2     Elon    58       89   79\n",
      "3     Jeff    62       70   80\n",
      "4  Richard    74       93  100\n",
      "1   Kushal    98       87   89\n"
     ]
    }
   ],
   "source": [
    "# Sort\n",
    "ageSortedData = df.sort_values(by=['English'], ascending=False)\n",
    "print(ageSortedData)\n",
    "print(\"\\n\")\n",
    "data_s = df.sort_values(by=['Math', 'English'], ascending=[True, False])\n",
    "print(data_s)"
   ]
  },
  {
   "cell_type": "code",
   "execution_count": 29,
   "id": "ab226871-54ab-491c-b67b-e4bfc118f294",
   "metadata": {},
   "outputs": [
    {
     "name": "stdout",
     "output_type": "stream",
     "text": [
      "      Name  Math  English  DSA\n",
      "1   Kushal    98       87   89\n",
      "3     Jeff    62       70   80\n",
      "4  Richard    74       93  100\n",
      "\n",
      "\n",
      "      Name  Math  English  DSA\n",
      "1   Kushal    98       87   89\n",
      "4  Richard    74       93  100\n"
     ]
    }
   ],
   "source": [
    "# Filtered Data\n",
    "# booleean Filtering\n",
    "filtered_data = df[df['Math'] > 60]\n",
    "print(filtered_data)\n",
    "\n",
    "print(\"\\n\")\n",
    "# Multiple Conditions\n",
    "filteredData = df[(df['Math'] > 60)&(df['English'] > 85)]\n",
    "print(filteredData)"
   ]
  },
  {
   "cell_type": "code",
   "execution_count": 30,
   "id": "e313e3b2-0382-40da-b43d-ff1c1f9be888",
   "metadata": {},
   "outputs": [
    {
     "data": {
      "text/html": [
       "<div>\n",
       "<style scoped>\n",
       "    .dataframe tbody tr th:only-of-type {\n",
       "        vertical-align: middle;\n",
       "    }\n",
       "\n",
       "    .dataframe tbody tr th {\n",
       "        vertical-align: top;\n",
       "    }\n",
       "\n",
       "    .dataframe thead th {\n",
       "        text-align: right;\n",
       "    }\n",
       "</style>\n",
       "<table border=\"1\" class=\"dataframe\">\n",
       "  <thead>\n",
       "    <tr style=\"text-align: right;\">\n",
       "      <th></th>\n",
       "      <th>Name</th>\n",
       "      <th>Math</th>\n",
       "      <th>English</th>\n",
       "      <th>DSA</th>\n",
       "      <th>profeciency</th>\n",
       "    </tr>\n",
       "  </thead>\n",
       "  <tbody>\n",
       "    <tr>\n",
       "      <th>1</th>\n",
       "      <td>Kushal</td>\n",
       "      <td>98</td>\n",
       "      <td>87</td>\n",
       "      <td>89</td>\n",
       "      <td>3</td>\n",
       "    </tr>\n",
       "    <tr>\n",
       "      <th>2</th>\n",
       "      <td>Elon</td>\n",
       "      <td>58</td>\n",
       "      <td>89</td>\n",
       "      <td>79</td>\n",
       "      <td>1</td>\n",
       "    </tr>\n",
       "    <tr>\n",
       "      <th>3</th>\n",
       "      <td>Jeff</td>\n",
       "      <td>62</td>\n",
       "      <td>70</td>\n",
       "      <td>80</td>\n",
       "      <td>0</td>\n",
       "    </tr>\n",
       "    <tr>\n",
       "      <th>4</th>\n",
       "      <td>Richard</td>\n",
       "      <td>74</td>\n",
       "      <td>93</td>\n",
       "      <td>100</td>\n",
       "      <td>2</td>\n",
       "    </tr>\n",
       "    <tr>\n",
       "      <th>5</th>\n",
       "      <td>Lary</td>\n",
       "      <td>57</td>\n",
       "      <td>45</td>\n",
       "      <td>91</td>\n",
       "      <td>1</td>\n",
       "    </tr>\n",
       "  </tbody>\n",
       "</table>\n",
       "</div>"
      ],
      "text/plain": [
       "      Name  Math  English  DSA  profeciency\n",
       "1   Kushal    98       87   89            3\n",
       "2     Elon    58       89   79            1\n",
       "3     Jeff    62       70   80            0\n",
       "4  Richard    74       93  100            2\n",
       "5     Lary    57       45   91            1"
      ]
     },
     "execution_count": 30,
     "metadata": {},
     "output_type": "execute_result"
    }
   ],
   "source": [
    "# Mapping\n",
    "mapped = {\"Kushal\":3, \"Elon\":1, \"Jeff\":0, \"Richard\":2, \"Lary\":1}\n",
    "df['profeciency'] = df['Name'].map(mapped)\n",
    "df"
   ]
  },
  {
   "cell_type": "markdown",
   "id": "4945ee0c-d0d7-4338-b991-453dae2227a1",
   "metadata": {},
   "source": [
    "### Indexing and slicing"
   ]
  },
  {
   "cell_type": "code",
   "execution_count": 31,
   "id": "3946fa51-2105-43ff-adee-09de95bf093c",
   "metadata": {},
   "outputs": [
    {
     "name": "stdout",
     "output_type": "stream",
     "text": [
      "Kushal\n",
      "\n",
      "\n",
      "Kushal\n"
     ]
    }
   ],
   "source": [
    "# loc and iloc\n",
    "print(df.loc[1, 'Name'])\n",
    "\n",
    "print(\"\\n\")\n",
    "\n",
    "print(df.iloc[0, 0])\n",
    "\n"
   ]
  },
  {
   "cell_type": "code",
   "execution_count": 35,
   "id": "4a9b9f71-4b52-43af-9af4-db644dc48c3f",
   "metadata": {},
   "outputs": [
    {
     "name": "stdout",
     "output_type": "stream",
     "text": [
      "   Name  Math  English  DSA  profeciency\n",
      "2  Elon    58       89   79            1\n",
      "3  Jeff    62       70   80            0\n",
      "\n",
      "\n",
      "     Name  Math\n",
      "1  Kushal    98\n",
      "2    Elon    58\n",
      "3    Jeff    62\n"
     ]
    }
   ],
   "source": [
    "# Slicing\n",
    "print(df[1:3])\n",
    "\n",
    "print(\"\\n\")\n",
    "\n",
    "print(df.loc[1:3, ['Name', 'Math']])"
   ]
  }
 ],
 "metadata": {
  "kernelspec": {
   "display_name": "Python 3 (ipykernel)",
   "language": "python",
   "name": "python3"
  },
  "language_info": {
   "codemirror_mode": {
    "name": "ipython",
    "version": 3
   },
   "file_extension": ".py",
   "mimetype": "text/x-python",
   "name": "python",
   "nbconvert_exporter": "python",
   "pygments_lexer": "ipython3",
   "version": "3.10.9"
  }
 },
 "nbformat": 4,
 "nbformat_minor": 5
}
