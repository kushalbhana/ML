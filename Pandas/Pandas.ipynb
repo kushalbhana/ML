{
 "cells": [
  {
   "cell_type": "code",
   "execution_count": 1,
   "id": "c6b6033b-f317-409f-b2d9-899f25d499ee",
   "metadata": {},
   "outputs": [],
   "source": [
    "import pandas as pd"
   ]
  },
  {
   "cell_type": "code",
   "execution_count": 2,
   "id": "d736dde6-7415-471f-9246-b1925ccd19c7",
   "metadata": {},
   "outputs": [
    {
     "name": "stdout",
     "output_type": "stream",
     "text": [
      "A    1\n",
      "B    2\n",
      "C    3\n",
      "D    4\n",
      "E    5\n",
      "dtype: int64\n"
     ]
    }
   ],
   "source": [
    "# creating series in pandas\n",
    "data = [1,2,3,4,5]\n",
    "series = pd.Series(data, index = [\"A\", \"B\", \"C\", \"D\", \"E\"])\n",
    "print(series)"
   ]
  },
  {
   "cell_type": "code",
   "execution_count": 3,
   "id": "dcfc975c-1f83-4395-ad29-ecfe360db89c",
   "metadata": {},
   "outputs": [
    {
     "name": "stdout",
     "output_type": "stream",
     "text": [
      "      Name  Age Fav_color\n",
      "0   Kushal   20      Blue\n",
      "1     Elon   58      Pink\n",
      "2     Jeff   62     Green\n",
      "3  Richard   74     White\n",
      "4     Lary   57    Yellow\n"
     ]
    }
   ],
   "source": [
    "# Creating dataframe in pandas\n",
    "data = {\"Name\":[\"Kushal\", \"Elon\", \"Jeff\", \"Richard\", \"Lary\"],\n",
    "       \"Age\":[20, 58, 62, 74, 57],\n",
    "       \"Fav_color\":[\"Blue\", \"Pink\", \"Green\", \"White\", \"Yellow\" ]}\n",
    "df = pd.DataFrame(data)\n",
    "print(df)"
   ]
  },
  {
   "cell_type": "markdown",
   "id": "0ee094ee-09e1-49c2-8641-a90ebd694b87",
   "metadata": {},
   "source": [
    "## Data Tranformation: Grouping, Merging Concatenating"
   ]
  },
  {
   "cell_type": "code",
   "execution_count": 5,
   "id": "13b00a18-3032-40db-bea3-59a823ecba87",
   "metadata": {},
   "outputs": [
    {
     "name": "stdout",
     "output_type": "stream",
     "text": [
      "Country\n",
      "Australia    62.0\n",
      "India        47.0\n",
      "Japan        57.0\n",
      "USA          58.0\n",
      "Name: Age, dtype: float64\n"
     ]
    }
   ],
   "source": [
    "# Group by\n",
    "data = {\"Name\":[\"Kushal\", \"Elon\", \"Jeff\", \"Richard\", \"Lary\"],\n",
    "       \"Age\":[20, 58, 62, 74, 57],\n",
    "       \"Country\":[\"India\", \"USA\", \"Australia\", \"India\", \"Japan\" ]}\n",
    "df = pd.DataFrame(data)\n",
    "grouped_data = df.groupby(['Country'])\n",
    "print(grouped_data['Age'].mean())"
   ]
  },
  {
   "cell_type": "code",
   "execution_count": 7,
   "id": "b1477335-c0bb-4705-a11d-9ab7e3267414",
   "metadata": {},
   "outputs": [
    {
     "name": "stdout",
     "output_type": "stream",
     "text": [
      "      Name  Age Fav_color\n",
      "0   Kushal   20      Blue\n",
      "1     Elon   58      Pink\n",
      "2     Jeff   62     Green\n",
      "3  Richard   74     White\n",
      "4     Lary   57    Yellow\n"
     ]
    }
   ],
   "source": [
    "# Merging\n",
    "data1 = {\"Name\":[\"Kushal\", \"Elon\", \"Jeff\", \"Richard\", \"Lary\"],\n",
    "       \"Age\":[20, 58, 62, 74, 57]}\n",
    "data2= {\"Name\":[\"Kushal\", \"Elon\", \"Jeff\", \"Richard\", \"Lary\"],\n",
    "       \"Fav_color\":[\"Blue\", \"Pink\", \"Green\", \"White\", \"Yellow\" ]}\n",
    "df1 = pd.DataFrame(data1)\n",
    "df2 = pd.DataFrame(data2)\n",
    "merged_data = pd.merge(df1, df2, on='Name')\n",
    "print(merged_data)"
   ]
  },
  {
   "cell_type": "code",
   "execution_count": 8,
   "id": "8f5b9386-c6ab-4fc0-b95e-09456cc78fc0",
   "metadata": {},
   "outputs": [
    {
     "name": "stdout",
     "output_type": "stream",
     "text": [
      "      Name  Age\n",
      "0   Kushal   20\n",
      "1     Elon   58\n",
      "2     Jeff   62\n",
      "0  Richard   74\n",
      "1     Lary   57\n"
     ]
    }
   ],
   "source": [
    "# Concatenate\n",
    "data1 = {\"Name\":[\"Kushal\", \"Elon\", \"Jeff\"],\n",
    "       \"Age\":[20, 58, 62]}\n",
    "data2= {\"Name\":[\"Richard\", \"Lary\"],\n",
    "       \"Age\":[74, 57]}\n",
    "\n",
    "df1 = pd.DataFrame(data1)\n",
    "df2 = pd.DataFrame(data2)\n",
    "concatenatedData = pd.concat([df1,df2], axis=0)\n",
    "print(concatenatedData)"
   ]
  },
  {
   "cell_type": "code",
   "execution_count": null,
   "id": "685ed500-52f9-4df7-89f1-085a67158604",
   "metadata": {},
   "outputs": [],
   "source": []
  }
 ],
 "metadata": {
  "kernelspec": {
   "display_name": "Python 3 (ipykernel)",
   "language": "python",
   "name": "python3"
  },
  "language_info": {
   "codemirror_mode": {
    "name": "ipython",
    "version": 3
   },
   "file_extension": ".py",
   "mimetype": "text/x-python",
   "name": "python",
   "nbconvert_exporter": "python",
   "pygments_lexer": "ipython3",
   "version": "3.10.9"
  }
 },
 "nbformat": 4,
 "nbformat_minor": 5
}
