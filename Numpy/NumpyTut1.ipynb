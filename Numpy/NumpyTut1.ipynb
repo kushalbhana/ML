{
 "cells": [
  {
   "cell_type": "code",
   "execution_count": 2,
   "id": "99ae4559-bac8-42ff-83ed-ab3f2c5f350b",
   "metadata": {},
   "outputs": [],
   "source": [
    "import numpy as np"
   ]
  },
  {
   "cell_type": "markdown",
   "id": "861a8436-f31e-49b9-bc3e-e5ccb577b972",
   "metadata": {},
   "source": [
    "### About Numpy Array"
   ]
  },
  {
   "cell_type": "markdown",
   "id": "8339c1b2-f010-41e1-807c-07acdb605a0d",
   "metadata": {},
   "source": [
    "- It consist of homogeneous data type\n",
    "- It is faster than pythonlist because constructed using c++ and python lists are implemented using python\n",
    "- It is better i memory utilization"
   ]
  },
  {
   "cell_type": "code",
   "execution_count": 3,
   "id": "adf8813b-e2f8-4fbe-aa5c-19a00bcd79d2",
   "metadata": {},
   "outputs": [
    {
     "name": "stdout",
     "output_type": "stream",
     "text": [
      "[[1 2 3 4]\n",
      " [5 6 7 8]]\n"
     ]
    }
   ],
   "source": [
    "# Creatig an array\n",
    "array1 = np.array([1,2,3,4,5,6,7])\n",
    "# 2D array \n",
    "array2D = np.array([[1,2,3,4],[5,6,7,8]])\n",
    "print(array2D)"
   ]
  },
  {
   "cell_type": "code",
   "execution_count": 4,
   "id": "5fc2c3b8-c83d-45b4-984c-e3214934af40",
   "metadata": {},
   "outputs": [
    {
     "data": {
      "text/plain": [
       "array([ 2. ,  2.5,  3. ,  3.5,  4. ,  4.5,  5. ,  5.5,  6. ,  6.5,  7. ,\n",
       "        7.5,  8. ,  8.5,  9. ,  9.5, 10. , 10.5, 11. , 11.5, 12. , 12.5,\n",
       "       13. , 13.5, 14. , 14.5])"
      ]
     },
     "execution_count": 4,
     "metadata": {},
     "output_type": "execute_result"
    }
   ],
   "source": [
    "# Creating multidimensional array using functions\n",
    "# np.arrange np.linspace\n",
    "array3 = np.arange(2,15, 0.5)\n",
    "array3"
   ]
  },
  {
   "cell_type": "code",
   "execution_count": 5,
   "id": "81935e20-cf5c-4294-9a14-316843196e11",
   "metadata": {},
   "outputs": [
    {
     "data": {
      "text/plain": [
       "array([2.  , 2.25, 2.5 , 2.75, 3.  ])"
      ]
     },
     "execution_count": 5,
     "metadata": {},
     "output_type": "execute_result"
    }
   ],
   "source": [
    "array4 = np.linspace(2,3,num=5)\n",
    "array4"
   ]
  },
  {
   "cell_type": "code",
   "execution_count": 6,
   "id": "031c6bd1-7b5f-4d32-8a2e-979fe0169260",
   "metadata": {},
   "outputs": [
    {
     "data": {
      "text/plain": [
       "array([[1., 0., 0.],\n",
       "       [0., 1., 0.]])"
      ]
     },
     "execution_count": 6,
     "metadata": {},
     "output_type": "execute_result"
    }
   ],
   "source": [
    "# 2D array\n",
    "array5 = np.eye(2,3)\n",
    "array5\n",
    "#Create a matrix with diagonal element as 1"
   ]
  },
  {
   "cell_type": "code",
   "execution_count": 7,
   "id": "f48bb823-8893-4a20-903e-2a8182f4cf83",
   "metadata": {},
   "outputs": [
    {
     "data": {
      "text/plain": [
       "array([[0.],\n",
       "       [0.]])"
      ]
     },
     "execution_count": 7,
     "metadata": {},
     "output_type": "execute_result"
    }
   ],
   "source": [
    "np.zeros((2,1))\n",
    "# It creates 2 rows ans 1 cokumns\n"
   ]
  },
  {
   "cell_type": "code",
   "execution_count": 8,
   "id": "3b6d8c3f-16d3-44a9-a81a-2b7143b271a5",
   "metadata": {},
   "outputs": [
    {
     "data": {
      "text/plain": [
       "array([[ 4.24399158e-314,  5.30498948e-313,  2.12199581e-311,\n",
       "         2.12229223e-314,  9.88131292e-324],\n",
       "       [ 4.24399158e-313,  4.24399158e-313,  2.12199579e-314,\n",
       "         2.12199579e-314,  2.12199579e-314],\n",
       "       [ 2.12199579e-314,  2.12199579e-314,  2.12199579e-314,\n",
       "         1.35807731e-312,  0.00000000e+000],\n",
       "       [ 1.63150358e-319, -7.72076677e-087,  3.81959242e-311,\n",
       "         4.94065646e-324,  0.00000000e+000]])"
      ]
     },
     "execution_count": 8,
     "metadata": {},
     "output_type": "execute_result"
    }
   ],
   "source": [
    "np.empty([4,5])"
   ]
  },
  {
   "cell_type": "markdown",
   "id": "7a8eaa19-8552-4dce-948f-8b5ccebff3aa",
   "metadata": {},
   "source": [
    "### Basic Operations"
   ]
  },
  {
   "cell_type": "code",
   "execution_count": 9,
   "id": "b55589a5-caf1-4cdb-8840-1df8bf46f9d8",
   "metadata": {},
   "outputs": [
    {
     "data": {
      "text/plain": [
       "array([[22, 27],\n",
       "       [52, 63]])"
      ]
     },
     "execution_count": 9,
     "metadata": {},
     "output_type": "execute_result"
    }
   ],
   "source": [
    "# Trignometric functions\n",
    "c = np.array([[2,3],[5,6]])\n",
    "d = np.array([[8,9],[2,3]])\n",
    "np.dot(c,d)"
   ]
  },
  {
   "cell_type": "code",
   "execution_count": 10,
   "id": "b23b508e-3385-4c4f-b32f-48df5980f1fd",
   "metadata": {},
   "outputs": [
    {
     "name": "stdout",
     "output_type": "stream",
     "text": [
      "Sin :  [0.         0.25881905 0.5        0.8660254 ]\n",
      "Cos :  [1.         0.96592583 0.8660254  0.5       ]\n"
     ]
    }
   ],
   "source": [
    "# Trignometry\n",
    "deg1= np.array([0,15,30,60])\n",
    "trig1 = np.deg2rad(deg1)\n",
    "\n",
    "print(\"Sin : \",np.sin(trig1))\n",
    "print(\"Cos : \",np.cos(trig1))"
   ]
  },
  {
   "cell_type": "markdown",
   "id": "7e42ee2b-ad0c-48a9-a383-bae4b363fe65",
   "metadata": {},
   "source": [
    "- You can get Log\n",
    "- Perform bitwise operations np.Bitwise_and()/Bitwise_or()"
   ]
  },
  {
   "cell_type": "code",
   "execution_count": 11,
   "id": "8b8bdb06-5c96-4313-9465-44ac5e864bab",
   "metadata": {},
   "outputs": [
    {
     "name": "stdout",
     "output_type": "stream",
     "text": [
      "15\n",
      "3.0\n",
      "3.0\n",
      "1.4142135623730951\n",
      "2.0\n",
      "5\n",
      "1\n"
     ]
    }
   ],
   "source": [
    "array6 = np.array([1,2,3,4,5])\n",
    "print(np.sum(array6)) #sum\n",
    "print(np.mean(array6)) #mean\n",
    "print(np.median(array6)) #median\n",
    "print(np.std(array6)) #Standard deviation\n",
    "print(np.var(array6)) #Variance\n",
    "print(np.max(array6)) #Maximum\n",
    "print(np.min(array6)) #Minimum"
   ]
  },
  {
   "cell_type": "code",
   "execution_count": 12,
   "id": "4c5a94ea-b16a-478c-9f7b-7d67c23c33b1",
   "metadata": {},
   "outputs": [
    {
     "name": "stdout",
     "output_type": "stream",
     "text": [
      "[5 4 3 2 1]\n"
     ]
    }
   ],
   "source": [
    "print(np.sort(array6)[::-1]) #Decending order"
   ]
  },
  {
   "cell_type": "markdown",
   "id": "99fda042-e90a-4c5f-880b-34fd950239b0",
   "metadata": {},
   "source": [
    "#### Boolean Indexing"
   ]
  },
  {
   "cell_type": "code",
   "execution_count": 13,
   "id": "0f7a39e3-57c9-4cd5-ae47-3cdb3bc70d7d",
   "metadata": {},
   "outputs": [
    {
     "name": "stdout",
     "output_type": "stream",
     "text": [
      "[1 2 4 1 2 1 5 1 7 1 1]\n"
     ]
    }
   ],
   "source": [
    "arr = np.array([1,3,5,1,3,1,6,1,8,1,1])\n",
    "arr[arr != 1] -= 1\n",
    "print(arr)"
   ]
  },
  {
   "cell_type": "markdown",
   "id": "18004db8-90fc-453a-9f6f-dddfe1d369de",
   "metadata": {},
   "source": [
    "##### Slicing"
   ]
  },
  {
   "cell_type": "code",
   "execution_count": 14,
   "id": "6ef15e0b-d89b-4898-bf10-6f624177efb2",
   "metadata": {},
   "outputs": [
    {
     "data": {
      "text/plain": [
       "array([3, 4])"
      ]
     },
     "execution_count": 14,
     "metadata": {},
     "output_type": "execute_result"
    }
   ],
   "source": [
    "c = np.array([1,2,3,4,5])\n",
    "c[2:4:1]"
   ]
  },
  {
   "cell_type": "markdown",
   "id": "80d1efcc-90c5-4d62-80ba-2e69853a94e5",
   "metadata": {},
   "source": [
    "#### Reshaping, Splitting & Stacking of Arrays"
   ]
  },
  {
   "cell_type": "code",
   "execution_count": 18,
   "id": "1cc07b86-5b90-4490-865f-aaf51de28282",
   "metadata": {},
   "outputs": [
    {
     "name": "stdout",
     "output_type": "stream",
     "text": [
      "[[1 2]\n",
      " [3 4]\n",
      " [5 6]]\n"
     ]
    }
   ],
   "source": [
    "# Reshaping\n",
    "a= np.array([[1,2,3],[4,5,6]])\n",
    "b = a.reshape(3,2)\n",
    "print(b)"
   ]
  },
  {
   "cell_type": "code",
   "execution_count": 22,
   "id": "e848e7c6-104f-497c-8d64-7d709c6a6fbd",
   "metadata": {},
   "outputs": [
    {
     "name": "stdout",
     "output_type": "stream",
     "text": [
      "[[1 2 3]]\n",
      "[[4 5 6]]\n"
     ]
    }
   ],
   "source": [
    "# Splitting\n",
    "b, c = np.split(a, 2, axis=0)\n",
    "print(b)\n",
    "print(c)"
   ]
  },
  {
   "cell_type": "code",
   "execution_count": 23,
   "id": "f0d28312-83cf-4954-bae2-fb98d326b3dc",
   "metadata": {},
   "outputs": [
    {
     "name": "stdout",
     "output_type": "stream",
     "text": [
      "[[1 2 4]\n",
      " [5 6 8]]\n",
      "[1 2 4 5 6 8]\n"
     ]
    }
   ],
   "source": [
    "# Stacking\n",
    "a = np.array([1,2,4])\n",
    "b = np.array([5,6,8])\n",
    "c = np.vstack((a,b))\n",
    "d = np.hstack((a,b))\n",
    "print(c)\n",
    "print(d)"
   ]
  },
  {
   "cell_type": "code",
   "execution_count": 29,
   "id": "5f86fede-1f9e-4b25-a564-0a860af7f512",
   "metadata": {},
   "outputs": [
    {
     "name": "stdout",
     "output_type": "stream",
     "text": [
      "[[1 2]\n",
      " [3 4]\n",
      " [5 6]]\n",
      "[1 2 3 4 5 6]\n"
     ]
    }
   ],
   "source": [
    "# Concate\n",
    "a = np.array([[1,2],[3,4]])\n",
    "b = np.array([[5,6]])\n",
    "c = np.concatenate((a,b), axis = 0)\n",
    "print(c)\n",
    "d = np.concatenate((a,b), axis=None)\n",
    "print(d)"
   ]
  },
  {
   "cell_type": "code",
   "execution_count": 32,
   "id": "f8a6bc97-74fc-492c-a76c-672424439714",
   "metadata": {},
   "outputs": [
    {
     "name": "stdout",
     "output_type": "stream",
     "text": [
      "4\n",
      "2\n"
     ]
    }
   ],
   "source": [
    "# Tranpose\n",
    "a = np.array([[1,2],\n",
    "             [3,4]])\n",
    "print(a.size)\n",
    "print(a.ndim)"
   ]
  },
  {
   "cell_type": "code",
   "execution_count": 33,
   "id": "9e6f5218-77ec-428c-857a-de0d1f5cbc6e",
   "metadata": {},
   "outputs": [
    {
     "data": {
      "text/plain": [
       "array([[1, 3],\n",
       "       [2, 4]])"
      ]
     },
     "execution_count": 33,
     "metadata": {},
     "output_type": "execute_result"
    }
   ],
   "source": [
    "a.T"
   ]
  },
  {
   "cell_type": "code",
   "execution_count": 34,
   "id": "a463bd36-c856-48e8-b9d3-8102e62de19d",
   "metadata": {},
   "outputs": [
    {
     "name": "stdout",
     "output_type": "stream",
     "text": [
      "4\n",
      "2\n"
     ]
    }
   ],
   "source": [
    "print(a.size)\n",
    "print(a.ndim)"
   ]
  },
  {
   "cell_type": "markdown",
   "id": "095f4e75-c0c9-48d8-9bae-d3e33659685e",
   "metadata": {},
   "source": [
    "#### Broadcasting"
   ]
  },
  {
   "cell_type": "code",
   "execution_count": null,
   "id": "e06d1948-169a-4cfe-a601-dd2f9d412d57",
   "metadata": {},
   "outputs": [],
   "source": []
  }
 ],
 "metadata": {
  "kernelspec": {
   "display_name": "Python 3 (ipykernel)",
   "language": "python",
   "name": "python3"
  },
  "language_info": {
   "codemirror_mode": {
    "name": "ipython",
    "version": 3
   },
   "file_extension": ".py",
   "mimetype": "text/x-python",
   "name": "python",
   "nbconvert_exporter": "python",
   "pygments_lexer": "ipython3",
   "version": "3.10.9"
  }
 },
 "nbformat": 4,
 "nbformat_minor": 5
}
