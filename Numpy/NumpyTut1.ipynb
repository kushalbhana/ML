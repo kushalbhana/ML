{
 "cells": [
  {
   "cell_type": "code",
   "execution_count": 9,
   "id": "99ae4559-bac8-42ff-83ed-ab3f2c5f350b",
   "metadata": {},
   "outputs": [],
   "source": [
    "import numpy as np"
   ]
  },
  {
   "cell_type": "markdown",
   "id": "861a8436-f31e-49b9-bc3e-e5ccb577b972",
   "metadata": {},
   "source": [
    "### About Numpy Array"
   ]
  },
  {
   "cell_type": "markdown",
   "id": "8339c1b2-f010-41e1-807c-07acdb605a0d",
   "metadata": {},
   "source": [
    "- It consist of homogeneous data type\n",
    "- It is faster than pythonlist because constructed using c++ and python lists are implemented using python\n",
    "- It is better i memory utilization"
   ]
  },
  {
   "cell_type": "code",
   "execution_count": 10,
   "id": "adf8813b-e2f8-4fbe-aa5c-19a00bcd79d2",
   "metadata": {},
   "outputs": [
    {
     "name": "stdout",
     "output_type": "stream",
     "text": [
      "[[1 2 3 4]\n",
      " [5 6 7 8]]\n"
     ]
    }
   ],
   "source": [
    "# Creatig an array\n",
    "array1 = np.array([1,2,3,4,5,6,7])\n",
    "# 2D array \n",
    "array2D = np.array([[1,2,3,4],[5,6,7,8]])\n",
    "print(array2D)"
   ]
  },
  {
   "cell_type": "code",
   "execution_count": 16,
   "id": "5fc2c3b8-c83d-45b4-984c-e3214934af40",
   "metadata": {},
   "outputs": [
    {
     "data": {
      "text/plain": [
       "array([ 2. ,  2.5,  3. ,  3.5,  4. ,  4.5,  5. ,  5.5,  6. ,  6.5,  7. ,\n",
       "        7.5,  8. ,  8.5,  9. ,  9.5, 10. , 10.5, 11. , 11.5, 12. , 12.5,\n",
       "       13. , 13.5, 14. , 14.5])"
      ]
     },
     "execution_count": 16,
     "metadata": {},
     "output_type": "execute_result"
    }
   ],
   "source": [
    "# Creating multidimensional array using functions\n",
    "# np.arrange np.linspace\n",
    "array3 = np.arange(2,15, 0.5)\n",
    "array3"
   ]
  },
  {
   "cell_type": "code",
   "execution_count": 17,
   "id": "81935e20-cf5c-4294-9a14-316843196e11",
   "metadata": {},
   "outputs": [
    {
     "data": {
      "text/plain": [
       "array([2.  , 2.25, 2.5 , 2.75, 3.  ])"
      ]
     },
     "execution_count": 17,
     "metadata": {},
     "output_type": "execute_result"
    }
   ],
   "source": [
    "array4 = np.linspace(2,3,num=5)\n",
    "array4"
   ]
  },
  {
   "cell_type": "code",
   "execution_count": null,
   "id": "031c6bd1-7b5f-4d32-8a2e-979fe0169260",
   "metadata": {},
   "outputs": [],
   "source": []
  }
 ],
 "metadata": {
  "kernelspec": {
   "display_name": "Python 3 (ipykernel)",
   "language": "python",
   "name": "python3"
  },
  "language_info": {
   "codemirror_mode": {
    "name": "ipython",
    "version": 3
   },
   "file_extension": ".py",
   "mimetype": "text/x-python",
   "name": "python",
   "nbconvert_exporter": "python",
   "pygments_lexer": "ipython3",
   "version": "3.10.9"
  }
 },
 "nbformat": 4,
 "nbformat_minor": 5
}
